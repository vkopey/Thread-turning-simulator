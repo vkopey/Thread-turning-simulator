{
  "nbformat": 4,
  "nbformat_minor": 0,
  "metadata": {
    "colab": {
      "provenance": [],
      "include_colab_link": true
    },
    "kernelspec": {
      "name": "python3",
      "display_name": "Python 3"
    },
    "language_info": {
      "name": "python"
    }
  },
  "cells": [
    {
      "cell_type": "markdown",
      "metadata": {
        "id": "view-in-github",
        "colab_type": "text"
      },
      "source": [
        "<a href=\"https://colab.research.google.com/github/vkopey/Thread-turning-simulator/blob/master/TaperThread3.ipynb\" target=\"_parent\"><img src=\"https://colab.research.google.com/assets/colab-badge.svg\" alt=\"Open In Colab\"/></a>"
      ]
    },
    {
      "cell_type": "code",
      "execution_count": null,
      "metadata": {
        "colab": {
          "base_uri": "https://localhost:8080/",
          "height": 38
        },
        "id": "tl026Wr38sWl",
        "outputId": "7fcdb7a5-51d2-4a93-a78e-d57a66d2c141"
      },
      "outputs": [
        {
          "output_type": "execute_result",
          "data": {
            "text/plain": [
              "-Fk*cos(φ) + P"
            ],
            "text/latex": "$\\displaystyle - Fk \\cos{\\left(φ \\right)} + P$"
          },
          "metadata": {},
          "execution_count": 2
        }
      ],
      "source": [
        "from sympy import *\n",
        "Fk, P, b, φ, λ, d_3, n = symbols(\"Fk, P, b, φ, λ, d_3, n\")\n",
        "CF=P-Fk*cos(φ)\n",
        "CF"
      ]
    },
    {
      "cell_type": "code",
      "source": [
        "sin(pi/6)*b/sin(pi/3+φ)"
      ],
      "metadata": {
        "colab": {
          "base_uri": "https://localhost:8080/",
          "height": 59
        },
        "id": "Nq0oL_LX-LdS",
        "outputId": "f1a2802f-ed44-45e0-cdda-8d4896dfe34c"
      },
      "execution_count": null,
      "outputs": [
        {
          "output_type": "execute_result",
          "data": {
            "text/plain": [
              "b/(2*sin(φ + pi/3))"
            ],
            "text/latex": "$\\displaystyle \\frac{b}{2 \\sin{\\left(φ + \\frac{\\pi}{3} \\right)}}$"
          },
          "metadata": {},
          "execution_count": 3
        }
      ]
    },
    {
      "cell_type": "code",
      "source": [
        "CF.subs({\"Fk\":_})"
      ],
      "metadata": {
        "colab": {
          "base_uri": "https://localhost:8080/",
          "height": 60
        },
        "id": "wahlBsmV-jEu",
        "outputId": "dde3b710-778a-4982-bba5-3da8173b337b"
      },
      "execution_count": null,
      "outputs": [
        {
          "output_type": "execute_result",
          "data": {
            "text/plain": [
              "P - b*cos(φ)/(2*sin(φ + pi/3))"
            ],
            "text/latex": "$\\displaystyle P - \\frac{b \\cos{\\left(φ \\right)}}{2 \\sin{\\left(φ + \\frac{\\pi}{3} \\right)}}$"
          },
          "metadata": {},
          "execution_count": 4
        }
      ]
    },
    {
      "cell_type": "code",
      "source": [
        "Δf=_*sin(λ)\n",
        "Δf"
      ],
      "metadata": {
        "colab": {
          "base_uri": "https://localhost:8080/",
          "height": 68
        },
        "id": "nN6jemstB5Ov",
        "outputId": "1098b1d8-5852-49a9-cd80-b6393495c8b7"
      },
      "execution_count": null,
      "outputs": [
        {
          "output_type": "execute_result",
          "data": {
            "text/plain": [
              "(P - b*cos(φ)/(2*sin(φ + pi/3)))*sin(λ)"
            ],
            "text/latex": "$\\displaystyle \\left(P - \\frac{b \\cos{\\left(φ \\right)}}{2 \\sin{\\left(φ + \\frac{\\pi}{3} \\right)}}\\right) \\sin{\\left(λ \\right)}$"
          },
          "metadata": {},
          "execution_count": 5
        }
      ]
    },
    {
      "cell_type": "code",
      "source": [
        "r_f=(d_3+2*P*tan(φ)*n)/2\n",
        "r_f"
      ],
      "metadata": {
        "colab": {
          "base_uri": "https://localhost:8080/",
          "height": 52
        },
        "id": "s8Mo8tTNDQR6",
        "outputId": "eacef867-1d7d-4fb1-8f85-0a2b94854253"
      },
      "execution_count": null,
      "outputs": [
        {
          "output_type": "execute_result",
          "data": {
            "text/plain": [
              "P*n*tan(φ) + d_3/2"
            ],
            "text/latex": "$\\displaystyle P n \\tan{\\left(φ \\right)} + \\frac{d_{3}}{2}$"
          },
          "metadata": {},
          "execution_count": 6
        }
      ]
    },
    {
      "cell_type": "code",
      "source": [
        "τ_f=atan(Δf/r_f)\n",
        "τ_f"
      ],
      "metadata": {
        "colab": {
          "base_uri": "https://localhost:8080/",
          "height": 101
        },
        "id": "PHcpB6tqEkKL",
        "outputId": "cb14cae3-a5b2-4735-9744-5bff4bc04a0d"
      },
      "execution_count": null,
      "outputs": [
        {
          "output_type": "execute_result",
          "data": {
            "text/plain": [
              "atan((P - b*cos(φ)/(2*sin(φ + pi/3)))*sin(λ)/(P*n*tan(φ) + d_3/2))"
            ],
            "text/latex": "$\\displaystyle \\operatorname{atan}{\\left(\\frac{\\left(P - \\frac{b \\cos{\\left(φ \\right)}}{2 \\sin{\\left(φ + \\frac{\\pi}{3} \\right)}}\\right) \\sin{\\left(λ \\right)}}{P n \\tan{\\left(φ \\right)} + \\frac{d_{3}}{2}} \\right)}$"
          },
          "metadata": {},
          "execution_count": 7
        }
      ]
    },
    {
      "cell_type": "code",
      "source": [
        "δ_f=P*τ_f/(2*pi)\n",
        "δ_f"
      ],
      "metadata": {
        "colab": {
          "base_uri": "https://localhost:8080/",
          "height": 118
        },
        "id": "xlUaEAWRFBJH",
        "outputId": "fbf6278b-ab06-4daa-9b8c-edb3feabaf68"
      },
      "execution_count": null,
      "outputs": [
        {
          "output_type": "execute_result",
          "data": {
            "text/plain": [
              "P*atan((P - b*cos(φ)/(2*sin(φ + pi/3)))*sin(λ)/(P*n*tan(φ) + d_3/2))/(2*pi)"
            ],
            "text/latex": "$\\displaystyle \\frac{P \\operatorname{atan}{\\left(\\frac{\\left(P - \\frac{b \\cos{\\left(φ \\right)}}{2 \\sin{\\left(φ + \\frac{\\pi}{3} \\right)}}\\right) \\sin{\\left(λ \\right)}}{P n \\tan{\\left(φ \\right)} + \\frac{d_{3}}{2}} \\right)}}{2 \\pi}$"
          },
          "metadata": {},
          "execution_count": 8
        }
      ]
    },
    {
      "cell_type": "code",
      "source": [
        "from math import radians\n",
        "δ_f.subs({P:4.233, d_3:25.476, b:1.209, n:1, φ:radians(3.58), λ:radians(3)}).evalf()"
      ],
      "metadata": {
        "colab": {
          "base_uri": "https://localhost:8080/",
          "height": 37
        },
        "id": "cBq6hR_xFjjU",
        "outputId": "c54ef111-4894-451a-86fa-f2fbec4d9c82"
      },
      "execution_count": null,
      "outputs": [
        {
          "output_type": "execute_result",
          "data": {
            "text/plain": [
              "0.00965089531797079"
            ],
            "text/latex": "$\\displaystyle 0.00965089531797079$"
          },
          "metadata": {},
          "execution_count": 9
        }
      ]
    },
    {
      "cell_type": "code",
      "source": [
        "solve(Eq(δ_f, 0), λ) # корені δ_f(λ)=0"
      ],
      "metadata": {
        "colab": {
          "base_uri": "https://localhost:8080/"
        },
        "id": "w_x0bz4YPTHt",
        "outputId": "e0768101-35d0-4f57-955d-e8574f7e601b"
      },
      "execution_count": null,
      "outputs": [
        {
          "output_type": "execute_result",
          "data": {
            "text/plain": [
              "[0, pi]"
            ]
          },
          "metadata": {},
          "execution_count": 10
        }
      ]
    },
    {
      "cell_type": "code",
      "source": [
        "solve(Eq(diff(δ_f, λ), 0), λ) # екстремуми δ_f(λ)=0"
      ],
      "metadata": {
        "colab": {
          "base_uri": "https://localhost:8080/"
        },
        "id": "-4Lidu3yLJnw",
        "outputId": "08b2718f-45f7-492f-ec54-7a0ad881fe46"
      },
      "execution_count": null,
      "outputs": [
        {
          "output_type": "execute_result",
          "data": {
            "text/plain": [
              "[pi/2, 3*pi/2]"
            ]
          },
          "metadata": {},
          "execution_count": 11
        }
      ]
    },
    {
      "cell_type": "code",
      "source": [
        "plot(δ_f.subs({P:4.233, d_3:25.476, b:1.209, n:1, φ:radians(3.58)}), (λ, -3, 3)) # графік δ_f(λ)"
      ],
      "metadata": {
        "colab": {
          "base_uri": "https://localhost:8080/",
          "height": 505
        },
        "id": "fvczAw_kMguZ",
        "outputId": "e6368504-bd8a-49fc-b5d9-4c7ccf4b2383"
      },
      "execution_count": null,
      "outputs": [
        {
          "output_type": "display_data",
          "data": {
            "text/plain": [
              "<Figure size 640x480 with 1 Axes>"
            ],
            "image/png": "[encoded data removed]"
          },
          "metadata": {}
        },
        {
          "output_type": "execute_result",
          "data": {
            "text/plain": [
              "<sympy.plotting.plot.Plot at 0x795c3bd74ca0>"
            ]
          },
          "metadata": {},
          "execution_count": 14
        }
      ]
    }
  ]
}